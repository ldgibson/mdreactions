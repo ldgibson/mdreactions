{
 "cells": [
  {
   "cell_type": "code",
   "execution_count": 1,
   "metadata": {},
   "outputs": [],
   "source": [
    "import re\n",
    "\n",
    "import openbabel\n",
    "import pybel\n",
    "\n",
    "import mdstates"
   ]
  },
  {
   "cell_type": "code",
   "execution_count": 2,
   "metadata": {},
   "outputs": [],
   "source": [
    "net = mdstates.Network()"
   ]
  },
  {
   "cell_type": "code",
   "execution_count": 3,
   "metadata": {},
   "outputs": [
    {
     "name": "stdout",
     "output_type": "stream",
     "text": [
      "20 iterations of Viterbi algorithm.\n"
     ]
    }
   ],
   "source": [
    "net.addreplica('../trajectories/1000K_t2.xyz', '../trajectories/top.pdb')\n",
    "net.generate_contact_matrix()\n",
    "net.decode()"
   ]
  },
  {
   "cell_type": "code",
   "execution_count": 4,
   "metadata": {},
   "outputs": [
    {
     "data": {
      "text/plain": [
       "[912,\n",
       " 914,\n",
       " 987,\n",
       " 996,\n",
       " 1195,\n",
       " 1214,\n",
       " 1516,\n",
       " 5151,\n",
       " 5152,\n",
       " 5199,\n",
       " 5951,\n",
       " 5952,\n",
       " 6026,\n",
       " 7365,\n",
       " 7468,\n",
       " 7470,\n",
       " 7821,\n",
       " 7837,\n",
       " 7857,\n",
       " 8151,\n",
       " 8367,\n",
       " 8368,\n",
       " 8408,\n",
       " 8409,\n",
       " 8581,\n",
       " 8603]"
      ]
     },
     "execution_count": 4,
     "metadata": {},
     "output_type": "execute_result"
    }
   ],
   "source": [
    "net.frames[0]"
   ]
  },
  {
   "cell_type": "code",
   "execution_count": 5,
   "metadata": {},
   "outputs": [],
   "source": [
    "mol = None\n",
    "smiles = {}\n",
    "for mol in pybel.readfile(\"xyz\", \"../trajectories/1000K_t2.xyz\"):\n",
    "    i = int(re.findall(\"\\d+\", mol.title.split(',')[0])[0])\n",
    "    if i / 100 in net.frames[0]:\n",
    "#         SMI = mol.write(\"smi\")\n",
    "        smiles[i / 100] = mol\n"
   ]
  },
  {
   "cell_type": "code",
   "execution_count": 9,
   "metadata": {},
   "outputs": [
    {
     "data": {
      "image/svg+xml": [
       "<svg xmlns=\"http://www.w3.org/2000/svg\" font-family=\"sans-serif\" height=\"100\" stroke=\"rgb(0,0,0)\" stroke-linecap=\"round\" stroke-width=\"2\" viewBox=\"0 0 360 229.282\" width=\"100\" x=\"0\" y=\"0\">\n",
       "<line stroke=\"rgb(0,0,0)\" stroke-width=\"2.0\" x1=\"67.0\" x2=\"53.0\" y1=\"114.6\" y2=\"114.6\" />\n",
       "<line stroke=\"rgb(0,0,0)\" stroke-width=\"2.0\" x1=\"86.5\" x2=\"100.0\" y1=\"103.4\" y2=\"80.0\" />\n",
       "<line stroke=\"rgb(0,0,0)\" stroke-width=\"2.0\" x1=\"100.0\" x2=\"100.0\" y1=\"53.0\" y2=\"80.0\" />\n",
       "<line stroke=\"rgb(0,0,0)\" stroke-width=\"2.0\" x1=\"100.0\" x2=\"76.6\" y1=\"80.0\" y2=\"66.5\" />\n",
       "<line stroke=\"rgb(0,0,0)\" stroke-width=\"2.0\" x1=\"100.0\" x2=\"140.0\" y1=\"80.0\" y2=\"80.0\" />\n",
       "<line stroke=\"rgb(0,0,0)\" stroke-width=\"2.0\" x1=\"163.4\" x2=\"140.0\" y1=\"66.5\" y2=\"80.0\" />\n",
       "<line stroke=\"rgb(0,0,0)\" stroke-width=\"2.0\" x1=\"140.0\" x2=\"140.0\" y1=\"80.0\" y2=\"53.0\" />\n",
       "<line stroke=\"rgb(0,0,0)\" stroke-width=\"2.0\" x1=\"140.0\" x2=\"153.5\" y1=\"80.0\" y2=\"103.4\" />\n",
       "<line stroke=\"rgb(0,0,0)\" stroke-width=\"2.0\" x1=\"210.9\" x2=\"197.4\" y1=\"139.5\" y2=\"116.1\" />\n",
       "<line stroke=\"rgb(0,0,0)\" stroke-width=\"2.0\" x1=\"216.1\" x2=\"202.6\" y1=\"136.5\" y2=\"113.1\" />\n",
       "<line stroke=\"rgb(0,0,0)\" stroke-width=\"2.0\" x1=\"173.0\" x2=\"200.0\" y1=\"114.6\" y2=\"114.6\" />\n",
       "<line stroke=\"rgb(0,0,0)\" stroke-width=\"2.0\" x1=\"200.0\" x2=\"213.5\" y1=\"114.6\" y2=\"91.3\" />\n",
       "<line stroke=\"rgb(0,0,0)\" stroke-width=\"2.0\" x1=\"233.0\" x2=\"260.0\" y1=\"80.0\" y2=\"80.0\" />\n",
       "<line stroke=\"rgb(0,0,0)\" stroke-width=\"2.0\" x1=\"283.4\" x2=\"260.0\" y1=\"66.5\" y2=\"80.0\" />\n",
       "<line stroke=\"rgb(0,0,0)\" stroke-width=\"2.0\" x1=\"260.0\" x2=\"260.0\" y1=\"80.0\" y2=\"53.0\" />\n",
       "<line stroke=\"rgb(0,0,0)\" stroke-width=\"2.0\" x1=\"260.0\" x2=\"280.0\" y1=\"80.0\" y2=\"114.6\" />\n",
       "<line stroke=\"rgb(0,0,0)\" stroke-width=\"2.0\" x1=\"280.0\" x2=\"307.0\" y1=\"114.6\" y2=\"114.6\" />\n",
       "<line stroke=\"rgb(0,0,0)\" stroke-width=\"2.0\" x1=\"280.0\" x2=\"266.5\" y1=\"114.6\" y2=\"138.0\" />\n",
       "<line stroke=\"rgb(0,0,0)\" stroke-width=\"2.0\" x1=\"107.0\" x2=\"80.0\" y1=\"192.3\" y2=\"192.3\" />\n",
       "<line stroke=\"rgb(0,0,0)\" stroke-width=\"2.0\" x1=\"107.0\" x2=\"80.0\" y1=\"186.3\" y2=\"186.3\" />\n",
       "<line stroke=\"rgb(0,0,0)\" stroke-width=\"2.0\" x1=\"80.0\" x2=\"53.0\" y1=\"192.3\" y2=\"192.3\" />\n",
       "<line stroke=\"rgb(0,0,0)\" stroke-width=\"2.0\" x1=\"80.0\" x2=\"53.0\" y1=\"186.3\" y2=\"186.3\" />\n",
       "<text fill=\"rgb(191,191,191)\" font-size=\"16\" stroke=\"rgb(191,191,191)\" stroke-width=\"1\" x=\"288.641016\" y=\"68.000000\">H</text>\n",
       "<text fill=\"rgb(191,191,191)\" font-size=\"16\" stroke=\"rgb(191,191,191)\" stroke-width=\"1\" x=\"254.000000\" y=\"48.000000\">H</text>\n",
       "<text fill=\"rgb(191,191,191)\" font-size=\"16\" stroke=\"rgb(191,191,191)\" stroke-width=\"1\" x=\"314.000000\" y=\"122.641016\">H</text>\n",
       "<text fill=\"rgb(191,191,191)\" font-size=\"16\" stroke=\"rgb(191,191,191)\" stroke-width=\"1\" x=\"254.000000\" y=\"157.282032\">H</text>\n",
       "<text fill=\"rgb(102,102,102)\" font-size=\"16\" stroke=\"rgb(102,102,102)\" stroke-width=\"1\" x=\"284.800000\" y=\"110.609016\" />\n",
       "<text fill=\"rgb(102,102,102)\" font-size=\"32\" stroke=\"rgb(102,102,102)\" stroke-width=\"1\" x=\"284.800000\" y=\"110.609016\">.</text>\n",
       "<text fill=\"rgb(255,12,12)\" font-size=\"16\" stroke=\"rgb(255,12,12)\" stroke-width=\"1\" x=\"214.000000\" y=\"88.000000\">O</text>\n",
       "<text fill=\"rgb(255,12,12)\" font-size=\"16\" stroke=\"rgb(255,12,12)\" stroke-width=\"1\" x=\"114.000000\" y=\"197.282032\">O</text>\n",
       "<text fill=\"rgb(255,12,12)\" font-size=\"16\" stroke=\"rgb(255,12,12)\" stroke-width=\"1\" x=\"34.000000\" y=\"197.282032\">O</text>\n",
       "<text fill=\"rgb(191,191,191)\" font-size=\"16\" stroke=\"rgb(191,191,191)\" stroke-width=\"1\" x=\"134.000000\" y=\"48.000000\">H</text>\n",
       "<text fill=\"rgb(191,191,191)\" font-size=\"16\" stroke=\"rgb(191,191,191)\" stroke-width=\"1\" x=\"168.641016\" y=\"68.000000\">H</text>\n",
       "<text fill=\"rgb(191,191,191)\" font-size=\"16\" stroke=\"rgb(191,191,191)\" stroke-width=\"1\" x=\"94.000000\" y=\"48.000000\">H</text>\n",
       "<text fill=\"rgb(191,191,191)\" font-size=\"16\" stroke=\"rgb(191,191,191)\" stroke-width=\"1\" x=\"59.358984\" y=\"68.000000\">H</text>\n",
       "<text fill=\"rgb(255,12,12)\" font-size=\"16\" stroke=\"rgb(255,12,12)\" stroke-width=\"1\" x=\"154.000000\" y=\"122.641016\">O</text>\n",
       "<text fill=\"rgb(255,12,12)\" font-size=\"16\" stroke=\"rgb(255,12,12)\" stroke-width=\"1\" x=\"74.000000\" y=\"122.641016\">O</text>\n",
       "<text fill=\"rgb(255,12,12)\" font-size=\"16\" stroke=\"rgb(255,12,12)\" stroke-width=\"1\" x=\"214.000000\" y=\"157.282032\">O</text>\n",
       "<text fill=\"rgb(204,127,255)\" font-size=\"16\" stroke=\"rgb(204,127,255)\" stroke-width=\"1\" x=\"22.000000\" y=\"122.641016\">Li</text>\n",
       "</svg>\n"
      ],
      "text/plain": [
       "<pybel.Molecule at 0x1205838d0>"
      ]
     },
     "execution_count": 9,
     "metadata": {},
     "output_type": "execute_result"
    }
   ],
   "source": [
    "smiles[8368]"
   ]
  },
  {
   "cell_type": "code",
   "execution_count": 7,
   "metadata": {},
   "outputs": [
    {
     "data": {
      "text/plain": [
       "'[Li]OC[CH2].C1(=O)OCCO1.C(=O)=O\\ti =   595200, time =   595200.000, E =       -95.4230733648\\n'"
      ]
     },
     "execution_count": 7,
     "metadata": {},
     "output_type": "execute_result"
    }
   ],
   "source": [
    "smiles[5952].write(\"smi\")"
   ]
  },
  {
   "cell_type": "code",
   "execution_count": 59,
   "metadata": {},
   "outputs": [
    {
     "data": {
      "text/plain": [
       "{'CONFIG': 'DL-POLY CONFIG',\n",
       " 'CONTCAR': 'VASP format',\n",
       " 'CONTFF': 'MDFF format',\n",
       " 'MDFF': 'MDFF format',\n",
       " 'POSCAR': 'VASP format',\n",
       " 'POSFF': 'MDFF format',\n",
       " 'VASP': 'VASP format',\n",
       " 'acesin': 'ACES input format',\n",
       " 'adf': 'ADF cartesian input format',\n",
       " 'alc': 'Alchemy format',\n",
       " 'ascii': 'ASCII format',\n",
       " 'bgf': 'MSI BGF format',\n",
       " 'box': 'Dock 3.5 Box format',\n",
       " 'bs': 'Ball and Stick format',\n",
       " 'c3d1': 'Chem3D Cartesian 1 format',\n",
       " 'c3d2': 'Chem3D Cartesian 2 format',\n",
       " 'cac': 'CAChe MolStruct format',\n",
       " 'caccrt': 'Cacao Cartesian format',\n",
       " 'cache': 'CAChe MolStruct format',\n",
       " 'cacint': 'Cacao Internal format',\n",
       " 'can': 'Canonical SMILES format',\n",
       " 'cdjson': 'ChemDoodle JSON',\n",
       " 'cdxml': 'ChemDraw CDXML format',\n",
       " 'cht': 'Chemtool format',\n",
       " 'cif': 'Crystallographic Information File',\n",
       " 'ck': 'ChemKin format',\n",
       " 'cml': 'Chemical Markup Language',\n",
       " 'cmlr': 'CML Reaction format',\n",
       " 'com': 'Gaussian 98/03 Input',\n",
       " 'confabreport': 'Confab report format',\n",
       " 'copy': 'Copy raw text',\n",
       " 'crk2d': 'Chemical Resource Kit diagram(2D)',\n",
       " 'crk3d': 'Chemical Resource Kit 3D format',\n",
       " 'csr': 'Accelrys/MSI Quanta CSR format',\n",
       " 'cssr': 'CSD CSSR format',\n",
       " 'ct': 'ChemDraw Connection Table format',\n",
       " 'cub': 'Gaussian cube format',\n",
       " 'cube': 'Gaussian cube format',\n",
       " 'dalmol': 'DALTON input format',\n",
       " 'dmol': 'DMol3 coordinates format',\n",
       " 'dx': 'OpenDX cube format for APBS',\n",
       " 'ent': 'Protein Data Bank format',\n",
       " 'exyz': 'Extended XYZ cartesian coordinates format',\n",
       " 'fa': 'FASTA format',\n",
       " 'fasta': 'FASTA format',\n",
       " 'feat': 'Feature format',\n",
       " 'fh': 'Fenske-Hall Z-Matrix format',\n",
       " 'fhiaims': 'FHIaims XYZ format',\n",
       " 'fix': 'SMILES FIX format',\n",
       " 'fps': 'FPS text fingerprint format (Dalke)',\n",
       " 'fpt': 'Fingerprint format',\n",
       " 'fract': 'Free Form Fractional format',\n",
       " 'fs': 'Fastsearch format',\n",
       " 'fsa': 'FASTA format',\n",
       " 'gamin': 'GAMESS Input',\n",
       " 'gau': 'Gaussian 98/03 Input',\n",
       " 'gjc': 'Gaussian 98/03 Input',\n",
       " 'gjf': 'Gaussian 98/03 Input',\n",
       " 'gpr': 'Ghemical format',\n",
       " 'gr96': 'GROMOS96 format',\n",
       " 'gro': 'GRO format',\n",
       " 'gukin': 'GAMESS-UK Input',\n",
       " 'gukout': 'GAMESS-UK Output',\n",
       " 'gzmat': 'Gaussian Z-Matrix Input',\n",
       " 'hin': 'HyperChem HIN format',\n",
       " 'inchi': 'InChI format',\n",
       " 'inchikey': 'InChIKey',\n",
       " 'inp': 'GAMESS Input',\n",
       " 'jin': 'Jaguar input format',\n",
       " 'k': 'Compare molecules using InChI',\n",
       " 'lmpdat': 'The LAMMPS data format',\n",
       " 'lpmd': 'LPMD format',\n",
       " 'mcdl': 'MCDL format',\n",
       " 'mcif': 'Macromolecular Crystallographic Info',\n",
       " 'mdl': 'MDL MOL format',\n",
       " 'ml2': 'Sybyl Mol2 format',\n",
       " 'mmcif': 'Macromolecular Crystallographic Info',\n",
       " 'mmd': 'MacroModel format',\n",
       " 'mmod': 'MacroModel format',\n",
       " 'mna': 'Multilevel Neighborhoods of Atoms (MNA)',\n",
       " 'mol': 'MDL MOL format',\n",
       " 'mol2': 'Sybyl Mol2 format',\n",
       " 'mold': 'Molden format',\n",
       " 'molden': 'Molden format',\n",
       " 'molf': 'Molden format',\n",
       " 'molreport': 'Open Babel molecule report',\n",
       " 'mop': 'MOPAC Cartesian format',\n",
       " 'mopcrt': 'MOPAC Cartesian format',\n",
       " 'mopin': 'MOPAC Internal',\n",
       " 'mp': 'Molpro input format',\n",
       " 'mpc': 'MOPAC Cartesian format',\n",
       " 'mpd': 'MolPrint2D format',\n",
       " 'mpqcin': 'MPQC simplified input format',\n",
       " 'mrv': 'Chemical Markup Language',\n",
       " 'msms': \"M.F. Sanner's MSMS input format\",\n",
       " 'nul': 'Outputs nothing',\n",
       " 'nw': 'NWChem input format',\n",
       " 'orcainp': 'ORCA input format',\n",
       " 'outmol': 'DMol3 coordinates format',\n",
       " 'paint': 'Painter format',\n",
       " 'pcjson': 'PubChem JSON',\n",
       " 'pcm': 'PCModel Format',\n",
       " 'pdb': 'Protein Data Bank format',\n",
       " 'pdbqt': 'AutoDock PDBQT format',\n",
       " 'png': 'PNG 2D depiction',\n",
       " 'pointcloud': 'Point cloud on VDW surface',\n",
       " 'pov': 'POV-Ray input format',\n",
       " 'pqr': 'PQR format',\n",
       " 'pqs': 'Parallel Quantum Solutions format',\n",
       " 'qcin': 'Q-Chem input format',\n",
       " 'report': 'Open Babel report format',\n",
       " 'rsmi': 'Reaction SMILES format',\n",
       " 'rxn': 'MDL RXN format',\n",
       " 'sd': 'MDL MOL format',\n",
       " 'sdf': 'MDL MOL format',\n",
       " 'smi': 'SMILES format',\n",
       " 'smiles': 'SMILES format',\n",
       " 'stl': 'STL 3D-printing format',\n",
       " 'svg': 'SVG 2D depiction',\n",
       " 'sy2': 'Sybyl Mol2 format',\n",
       " 'tdd': 'Thermo format',\n",
       " 'text': 'Read and write raw text',\n",
       " 'therm': 'Thermo format',\n",
       " 'tmol': 'TurboMole Coordinate format',\n",
       " 'txt': 'Title format',\n",
       " 'txyz': 'Tinker XYZ format',\n",
       " 'unixyz': 'UniChem XYZ format',\n",
       " 'vmol': 'ViewMol format',\n",
       " 'xed': 'XED format',\n",
       " 'xyz': 'XYZ cartesian coordinates format',\n",
       " 'yob': 'YASARA.org YOB format',\n",
       " 'zin': 'ZINDO input format'}"
      ]
     },
     "execution_count": 59,
     "metadata": {},
     "output_type": "execute_result"
    }
   ],
   "source": [
    "pybel.outformats"
   ]
  },
  {
   "cell_type": "code",
   "execution_count": 67,
   "metadata": {},
   "outputs": [
    {
     "name": "stdout",
     "output_type": "stream",
     "text": [
      "2.77 µs ± 1.46 µs per loop (mean ± std. dev. of 7 runs, 3 loops each)\n"
     ]
    }
   ],
   "source": [
    "%%timeit -n 3\n",
    "num = int(re.findall(\"\\d+\", itermol.title.split(',')[0])[0])"
   ]
  },
  {
   "cell_type": "code",
   "execution_count": 66,
   "metadata": {},
   "outputs": [
    {
     "data": {
      "text/plain": [
       "880800"
      ]
     },
     "execution_count": 66,
     "metadata": {},
     "output_type": "execute_result"
    }
   ],
   "source": [
    "num"
   ]
  },
  {
   "cell_type": "code",
   "execution_count": 33,
   "metadata": {},
   "outputs": [
    {
     "data": {
      "text/plain": [
       "'[Li].C1(=O)OCCO1.C1(=O)OCCO1\\ti =        0, time =        0.000, E =       -95.3240229955\\n'"
      ]
     },
     "execution_count": 33,
     "metadata": {},
     "output_type": "execute_result"
    }
   ],
   "source": [
    "thing2.write(\"smi\")"
   ]
  },
  {
   "cell_type": "code",
   "execution_count": null,
   "metadata": {},
   "outputs": [],
   "source": []
  }
 ],
 "metadata": {
  "kernelspec": {
   "display_name": "Python 3",
   "language": "python",
   "name": "python3"
  },
  "language_info": {
   "codemirror_mode": {
    "name": "ipython",
    "version": 3
   },
   "file_extension": ".py",
   "mimetype": "text/x-python",
   "name": "python",
   "nbconvert_exporter": "python",
   "pygments_lexer": "ipython3",
   "version": "3.6.1"
  }
 },
 "nbformat": 4,
 "nbformat_minor": 2
}

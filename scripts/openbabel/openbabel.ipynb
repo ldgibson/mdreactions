{
 "cells": [
  {
   "cell_type": "code",
   "execution_count": 146,
   "metadata": {
    "scrolled": true
   },
   "outputs": [],
   "source": [
    "import re\n",
    "import os\n",
    "\n",
    "import networkx as nx\n",
    "# from networkx.drawing.nx_agraph import graphviz_layout\n",
    "# from networkx.drawing.nx_pylab import draw_graphviz\n",
    "import networkx.drawing.nx_pylab as nxpy\n",
    "from networkx.drawing.nx_pydot import to_pydot, write_dot\n",
    "import openbabel\n",
    "import pybel\n",
    "import rdkit\n",
    "from rdkit import Chem\n",
    "from rdkit.Chem import AllChem, Draw\n",
    "from graphviz import Digraph\n",
    "\n",
    "import mdstates"
   ]
  },
  {
   "cell_type": "code",
   "execution_count": 2,
   "metadata": {},
   "outputs": [],
   "source": [
    "net = mdstates.Network()"
   ]
  },
  {
   "cell_type": "code",
   "execution_count": 3,
   "metadata": {},
   "outputs": [
    {
     "name": "stdout",
     "output_type": "stream",
     "text": [
      "20 iterations of Viterbi algorithm.\n"
     ]
    }
   ],
   "source": [
    "net.addreplica('../trajectories/1000K_t2.xyz', '../trajectories/top.pdb')\n",
    "net.generate_contact_matrix()\n",
    "net.decode()"
   ]
  },
  {
   "cell_type": "code",
   "execution_count": 4,
   "metadata": {},
   "outputs": [],
   "source": [
    "frames = net.frames[0]"
   ]
  },
  {
   "cell_type": "code",
   "execution_count": 5,
   "metadata": {},
   "outputs": [],
   "source": [
    "mol = None\n",
    "structures = {}\n",
    "for mol in pybel.readfile(\"xyz\", \"../trajectories/1000K_t2.xyz\"):\n",
    "    i = int(re.findall(\"\\d+\", mol.title.split(',')[0])[0])\n",
    "    if i / 100 in frames:\n",
    "        SMI = mol.write(\"smi\").split('\\t')[0]\n",
    "        structures[i / 100] = {'SMI': SMI, 'img': SMI+'.png'}"
   ]
  },
  {
   "cell_type": "code",
   "execution_count": 6,
   "metadata": {},
   "outputs": [],
   "source": [
    "smiles = {}\n",
    "for frame, value in structures.items():\n",
    "    smiles[frame] = value['SMI']\n"
   ]
  },
  {
   "cell_type": "code",
   "execution_count": 7,
   "metadata": {},
   "outputs": [
    {
     "data": {
      "text/plain": [
       "['[Li].C1(=O)OCCO1.C(=O)([O])OC[CH2]',\n",
       " '[Li]OC[CH2].C1(=O)OCCO1.C(=O)=O',\n",
       " '[Li]OC1(OCCO1)OC[CH2].C(=O)=O',\n",
       " '[Li]OC(=O)OC[CH2].C1(=O)OCCO1',\n",
       " '[Li]OC[CH2].C1(=O)OCCO1.[C](=O)[O]',\n",
       " '[Li].C1([O])(OCCO1)OC[CH2].C(=O)=O',\n",
       " '[Li]OCCOC(=O)OC[CH2].C(=O)=O']"
      ]
     },
     "execution_count": 7,
     "metadata": {},
     "output_type": "execute_result"
    }
   ],
   "source": [
    "unique = []\n",
    "for SMI in smiles.values():\n",
    "    if SMI not in unique:\n",
    "        unique.append(SMI)\n",
    "unique"
   ]
  },
  {
   "cell_type": "code",
   "execution_count": 8,
   "metadata": {},
   "outputs": [
    {
     "data": {
      "text/plain": [
       "['one', 'two', 'three', 'four', 'five', 'six', 'seven']"
      ]
     },
     "execution_count": 8,
     "metadata": {},
     "output_type": "execute_result"
    }
   ],
   "source": [
    "names = ['one', 'two', 'three', 'four', 'five', 'six', 'seven']\n",
    "names"
   ]
  },
  {
   "cell_type": "code",
   "execution_count": 9,
   "metadata": {
    "scrolled": true
   },
   "outputs": [
    {
     "data": {
      "text/plain": [
       "{'[Li].C1(=O)OCCO1.C(=O)([O])OC[CH2]': 'one',\n",
       " '[Li].C1([O])(OCCO1)OC[CH2].C(=O)=O': 'six',\n",
       " '[Li]OC(=O)OC[CH2].C1(=O)OCCO1': 'four',\n",
       " '[Li]OC1(OCCO1)OC[CH2].C(=O)=O': 'three',\n",
       " '[Li]OCCOC(=O)OC[CH2].C(=O)=O': 'seven',\n",
       " '[Li]OC[CH2].C1(=O)OCCO1.C(=O)=O': 'two',\n",
       " '[Li]OC[CH2].C1(=O)OCCO1.[C](=O)[O]': 'five'}"
      ]
     },
     "execution_count": 9,
     "metadata": {},
     "output_type": "execute_result"
    }
   ],
   "source": [
    "unique_smiles = dict(zip(unique, names))\n",
    "unique_smiles"
   ]
  },
  {
   "cell_type": "code",
   "execution_count": 10,
   "metadata": {},
   "outputs": [],
   "source": [
    "for smi, name in unique_smiles.items():\n",
    "    mol = Chem.MolFromSmiles(smi)\n",
    "    Draw.MolToFile(mol, name+'.png')"
   ]
  },
  {
   "cell_type": "code",
   "execution_count": 11,
   "metadata": {},
   "outputs": [
    {
     "data": {
      "image/png": "[encoded data removed]",
      "text/plain": [
       "<PIL.Image.Image image mode=RGB size=300x300 at 0x12516E7B8>"
      ]
     },
     "execution_count": 11,
     "metadata": {},
     "output_type": "execute_result"
    }
   ],
   "source": [
    "rdmol = Chem.MolFromSmiles(\"[Li].C1(=O)OCCO1.C(=O)([O])OC[CH2]\")\n",
    "Draw.MolToFile(rdmol, )"
   ]
  },
  {
   "cell_type": "code",
   "execution_count": 20,
   "metadata": {},
   "outputs": [],
   "source": [
    "m = pybel.readstring(\"smi\", \"[Li].[CH2]COC([O])=O.O=C1OCCO1\")\n",
    "m.localopt()\n",
    "# m.write(\"smi\")\n",
    "m.draw(show=False, filename=\"plz.png\", usecoords=False)"
   ]
  },
  {
   "cell_type": "code",
   "execution_count": 70,
   "metadata": {},
   "outputs": [],
   "source": [
    "\n",
    "G = nx.DiGraph()\n",
    "\n",
    "for i, frame in enumerate(frames):\n",
    "    if smiles[frame] not in G.nodes:\n",
    "        if not G.nodes:\n",
    "            G.add_node(smiles[frame], rank=0, image=unique_smiles[smiles[frame]]+'.png', label=\"\")\n",
    "        else:\n",
    "            if (smiles[frames[i-1]], smiles[frame]) in G.out_edges:\n",
    "                G.edges[smiles[frames[i-1]], smiles[frame]]['penwidth'] += 1\n",
    "            else:\n",
    "                G.add_node(smiles[frame], image=unique_smiles[smiles[frame]]+'.png', label=\"\")\n",
    "                G.add_edge(smiles[frames[i-1]], smiles[frame], penwidth=1.0)\n",
    "    elif smiles[frames[i-1]] == smiles[frame]:\n",
    "        pass\n",
    "    else:\n",
    "        if (smiles[frames[i-1]], smiles[frame]) in G.out_edges:\n",
    "            G.edges[smiles[frames[i-1]], smiles[frame]]['penwidth'] += 1\n",
    "        else:\n",
    "            G.add_edge(smiles[frames[i-1]], smiles[frame], penwidth=1.0)\n",
    "        "
   ]
  },
  {
   "cell_type": "code",
   "execution_count": 12,
   "metadata": {
    "scrolled": true
   },
   "outputs": [],
   "source": [
    "G2 = nx.convert_node_labels_to_integers(G)\n",
    "nx.draw_spring(G2, with_labels=True)"
   ]
  },
  {
   "cell_type": "code",
   "execution_count": 13,
   "metadata": {},
   "outputs": [
    {
     "data": {
      "text/plain": [
       "NodeDataView({0: {'rank': 0, 'image': 'one.png', 'label': ''}, 1: {'image': 'two.png', 'label': ''}, 2: {'image': 'three.png', 'label': ''}, 3: {'image': 'four.png', 'label': ''}, 4: {'image': 'five.png', 'label': ''}, 5: {'image': 'six.png', 'label': ''}, 6: {'image': 'seven.png', 'label': ''}})"
      ]
     },
     "execution_count": 13,
     "metadata": {},
     "output_type": "execute_result"
    }
   ],
   "source": [
    "G2.nodes(data=True)"
   ]
  },
  {
   "cell_type": "code",
   "execution_count": 11,
   "metadata": {},
   "outputs": [
    {
     "name": "stdout",
     "output_type": "stream",
     "text": [
      "strict digraph {\n",
      "\tnode [label=\"\\N\"];\n",
      "\t\"[Li].C1(=O)OCCO1.C(=O)([O])OC[CH2]\"\t [image=\"one.png\",\n",
      "\t\tlabel=\"\",\n",
      "\t\trank=0];\n",
      "\t\"[Li]OC[CH2].C1(=O)OCCO1.C(=O)=O\"\t [image=\"two.png\",\n",
      "\t\tlabel=\"\"];\n",
      "\t\"[Li].C1(=O)OCCO1.C(=O)([O])OC[CH2]\" -> \"[Li]OC[CH2].C1(=O)OCCO1.C(=O)=O\"\t [penwidth=3.0];\n",
      "\t\"[Li]OC[CH2].C1(=O)OCCO1.C(=O)=O\" -> \"[Li].C1(=O)OCCO1.C(=O)([O])OC[CH2]\"\t [penwidth=2.0];\n",
      "\t\"[Li]OC1(OCCO1)OC[CH2].C(=O)=O\"\t [image=\"three.png\",\n",
      "\t\tlabel=\"\"];\n",
      "\t\"[Li]OC[CH2].C1(=O)OCCO1.C(=O)=O\" -> \"[Li]OC1(OCCO1)OC[CH2].C(=O)=O\"\t [penwidth=1.0];\n",
      "\t\"[Li]OC(=O)OC[CH2].C1(=O)OCCO1\"\t [image=\"four.png\",\n",
      "\t\tlabel=\"\"];\n",
      "\t\"[Li]OC[CH2].C1(=O)OCCO1.C(=O)=O\" -> \"[Li]OC(=O)OC[CH2].C1(=O)OCCO1\"\t [penwidth=3.0];\n",
      "\t\"[Li]OC1(OCCO1)OC[CH2].C(=O)=O\" -> \"[Li]OC[CH2].C1(=O)OCCO1.C(=O)=O\"\t [penwidth=2.0];\n",
      "\t\"[Li].C1([O])(OCCO1)OC[CH2].C(=O)=O\"\t [image=\"six.png\",\n",
      "\t\tlabel=\"\"];\n",
      "\t\"[Li]OC1(OCCO1)OC[CH2].C(=O)=O\" -> \"[Li].C1([O])(OCCO1)OC[CH2].C(=O)=O\"\t [penwidth=1.0];\n",
      "\t\"[Li]OC(=O)OC[CH2].C1(=O)OCCO1\" -> \"[Li]OC[CH2].C1(=O)OCCO1.C(=O)=O\"\t [penwidth=1.0];\n",
      "\t\"[Li]OC[CH2].C1(=O)OCCO1.[C](=O)[O]\"\t [image=\"five.png\",\n",
      "\t\tlabel=\"\"];\n",
      "\t\"[Li]OC(=O)OC[CH2].C1(=O)OCCO1\" -> \"[Li]OC[CH2].C1(=O)OCCO1.[C](=O)[O]\"\t [penwidth=1.0];\n",
      "\t\"[Li].C1([O])(OCCO1)OC[CH2].C(=O)=O\" -> \"[Li]OC1(OCCO1)OC[CH2].C(=O)=O\"\t [penwidth=1.0];\n",
      "\t\"[Li]OCCOC(=O)OC[CH2].C(=O)=O\"\t [image=\"seven.png\",\n",
      "\t\tlabel=\"\"];\n",
      "\t\"[Li].C1([O])(OCCO1)OC[CH2].C(=O)=O\" -> \"[Li]OCCOC(=O)OC[CH2].C(=O)=O\"\t [penwidth=1.0];\n",
      "\t\"[Li]OC[CH2].C1(=O)OCCO1.[C](=O)[O]\" -> \"[Li].C1([O])(OCCO1)OC[CH2].C(=O)=O\"\t [penwidth=1.0];\n",
      "\t\"[Li]OCCOC(=O)OC[CH2].C(=O)=O\" -> \"[Li]OC1(OCCO1)OC[CH2].C(=O)=O\"\t [penwidth=1.0];\n",
      "}\n",
      "\n"
     ]
    }
   ],
   "source": [
    "A = to_agraph(G)\n",
    "print(A)"
   ]
  },
  {
   "cell_type": "code",
   "execution_count": 18,
   "metadata": {},
   "outputs": [
    {
     "ename": "OSError",
     "evalue": "Format: \"png:cairo:cairo\" not recognized. Use one of: png:quartz:quartz\n",
     "output_type": "error",
     "traceback": [
      "\u001b[0;31m---------------------------------------------------------------------------\u001b[0m",
      "\u001b[0;31mOSError\u001b[0m                                   Traceback (most recent call last)",
      "\u001b[0;32m<ipython-input-18-69e1cc182542>\u001b[0m in \u001b[0;36m<module>\u001b[0;34m()\u001b[0m\n\u001b[1;32m      1\u001b[0m \u001b[0mA\u001b[0m\u001b[0;34m.\u001b[0m\u001b[0mlayout\u001b[0m\u001b[0;34m(\u001b[0m\u001b[0;34m'dot'\u001b[0m\u001b[0;34m)\u001b[0m\u001b[0;34m\u001b[0m\u001b[0m\n\u001b[0;32m----> 2\u001b[0;31m \u001b[0mA\u001b[0m\u001b[0;34m.\u001b[0m\u001b[0mdraw\u001b[0m\u001b[0;34m(\u001b[0m\u001b[0;34m'net.png'\u001b[0m\u001b[0;34m,\u001b[0m \u001b[0mformat\u001b[0m\u001b[0;34m=\u001b[0m\u001b[0;34m\"png:cairo:cairo\"\u001b[0m\u001b[0;34m)\u001b[0m\u001b[0;34m\u001b[0m\u001b[0m\n\u001b[0m",
      "\u001b[0;32m~/anaconda3/envs/mdstates/lib/python3.6/site-packages/pygraphviz/agraph.py\u001b[0m in \u001b[0;36mdraw\u001b[0;34m(self, path, format, prog, args)\u001b[0m\n\u001b[1;32m   1467\u001b[0m             \u001b[0margs\u001b[0m \u001b[0;34m=\u001b[0m \u001b[0;34m' '\u001b[0m\u001b[0;34m.\u001b[0m\u001b[0mjoin\u001b[0m\u001b[0;34m(\u001b[0m\u001b[0;34m[\u001b[0m\u001b[0margs\u001b[0m\u001b[0;34m,\u001b[0m \u001b[0;34m\"-T\"\u001b[0m \u001b[0;34m+\u001b[0m \u001b[0mformat\u001b[0m\u001b[0;34m]\u001b[0m\u001b[0;34m)\u001b[0m\u001b[0;34m\u001b[0m\u001b[0m\n\u001b[1;32m   1468\u001b[0m \u001b[0;34m\u001b[0m\u001b[0m\n\u001b[0;32m-> 1469\u001b[0;31m         \u001b[0mdata\u001b[0m \u001b[0;34m=\u001b[0m \u001b[0mself\u001b[0m\u001b[0;34m.\u001b[0m\u001b[0m_run_prog\u001b[0m\u001b[0;34m(\u001b[0m\u001b[0mprog\u001b[0m\u001b[0;34m,\u001b[0m \u001b[0margs\u001b[0m\u001b[0;34m)\u001b[0m\u001b[0;34m\u001b[0m\u001b[0m\n\u001b[0m\u001b[1;32m   1470\u001b[0m \u001b[0;34m\u001b[0m\u001b[0m\n\u001b[1;32m   1471\u001b[0m         \u001b[0;32mif\u001b[0m \u001b[0mpath\u001b[0m \u001b[0;32mis\u001b[0m \u001b[0;32mnot\u001b[0m \u001b[0;32mNone\u001b[0m\u001b[0;34m:\u001b[0m\u001b[0;34m\u001b[0m\u001b[0m\n",
      "\u001b[0;32m~/anaconda3/envs/mdstates/lib/python3.6/site-packages/pygraphviz/agraph.py\u001b[0m in \u001b[0;36m_run_prog\u001b[0;34m(self, prog, args)\u001b[0m\n\u001b[1;32m   1329\u001b[0m \u001b[0;34m\u001b[0m\u001b[0m\n\u001b[1;32m   1330\u001b[0m         \u001b[0;32mif\u001b[0m \u001b[0;32mnot\u001b[0m \u001b[0mdata\u001b[0m\u001b[0;34m:\u001b[0m\u001b[0;34m\u001b[0m\u001b[0m\n\u001b[0;32m-> 1331\u001b[0;31m             \u001b[0;32mraise\u001b[0m \u001b[0mIOError\u001b[0m\u001b[0;34m(\u001b[0m\u001b[0;34mb\"\"\u001b[0m\u001b[0;34m.\u001b[0m\u001b[0mjoin\u001b[0m\u001b[0;34m(\u001b[0m\u001b[0merrors\u001b[0m\u001b[0;34m)\u001b[0m\u001b[0;34m.\u001b[0m\u001b[0mdecode\u001b[0m\u001b[0;34m(\u001b[0m\u001b[0mself\u001b[0m\u001b[0;34m.\u001b[0m\u001b[0mencoding\u001b[0m\u001b[0;34m)\u001b[0m\u001b[0;34m)\u001b[0m\u001b[0;34m\u001b[0m\u001b[0m\n\u001b[0m\u001b[1;32m   1332\u001b[0m \u001b[0;34m\u001b[0m\u001b[0m\n\u001b[1;32m   1333\u001b[0m         \u001b[0;32mif\u001b[0m \u001b[0mlen\u001b[0m\u001b[0;34m(\u001b[0m\u001b[0merrors\u001b[0m\u001b[0;34m)\u001b[0m \u001b[0;34m>\u001b[0m \u001b[0;36m0\u001b[0m\u001b[0;34m:\u001b[0m\u001b[0;34m\u001b[0m\u001b[0m\n",
      "\u001b[0;31mOSError\u001b[0m: Format: \"png:cairo:cairo\" not recognized. Use one of: png:quartz:quartz\n"
     ]
    }
   ],
   "source": [
    "A.layout('dot')\n",
    "A.draw('net.png', format=\"png:cairo:cairo\")"
   ]
  },
  {
   "cell_type": "code",
   "execution_count": 147,
   "metadata": {},
   "outputs": [],
   "source": [
    "write_dot(G, 'willitwork.dot')"
   ]
  },
  {
   "cell_type": "code",
   "execution_count": 148,
   "metadata": {},
   "outputs": [
    {
     "data": {
      "text/plain": [
       "0"
      ]
     },
     "execution_count": 148,
     "metadata": {},
     "output_type": "execute_result"
    }
   ],
   "source": [
    "os.system(\"dot -Tpng willitwork.dot -o itworked.png\")"
   ]
  },
  {
   "cell_type": "code",
   "execution_count": 11,
   "metadata": {},
   "outputs": [],
   "source": [
    "P = to_pydot(G)"
   ]
  },
  {
   "cell_type": "code",
   "execution_count": 12,
   "metadata": {},
   "outputs": [
    {
     "data": {
      "text/plain": [
       "True"
      ]
     },
     "execution_count": 12,
     "metadata": {},
     "output_type": "execute_result"
    }
   ],
   "source": [
    "P.write('plzwork.png', prog='dot', format='png')"
   ]
  },
  {
   "cell_type": "code",
   "execution_count": 31,
   "metadata": {},
   "outputs": [],
   "source": [
    "PP = pydot.Dot(graph_type='graph')\n",
    "\n",
    "node_a = pydot.Node(\"Node A\", image=\"one.png\")\n",
    "\n",
    "PP.add_node(node_a)"
   ]
  },
  {
   "cell_type": "code",
   "execution_count": 88,
   "metadata": {},
   "outputs": [
    {
     "data": {
      "text/plain": [
       "{'[Li].C1(=O)OCCO1.C(=O)([O])OC[CH2]': {'image': 'one.png',\n",
       "  'label': '',\n",
       "  'rank': 0},\n",
       " '[Li].C1([O])(OCCO1)OC[CH2].C(=O)=O': {'image': 'six.png', 'label': ''},\n",
       " '[Li]OC(=O)OC[CH2].C1(=O)OCCO1': {'image': 'four.png', 'label': ''},\n",
       " '[Li]OC1(OCCO1)OC[CH2].C(=O)=O': {'image': 'three.png', 'label': ''},\n",
       " '[Li]OCCOC(=O)OC[CH2].C(=O)=O': {'image': 'seven.png', 'label': ''},\n",
       " '[Li]OC[CH2].C1(=O)OCCO1.C(=O)=O': {'image': 'two.png', 'label': ''},\n",
       " '[Li]OC[CH2].C1(=O)OCCO1.[C](=O)[O]': {'image': 'five.png', 'label': ''}}"
      ]
     },
     "execution_count": 88,
     "metadata": {},
     "output_type": "execute_result"
    }
   ],
   "source": [
    "nodes = list(G.nodes)\n",
    "args = []\n",
    "for i in G.nodes(data=True):\n",
    "    args.append(i[1])\n",
    "graphinfo = dict(zip(nodes, args))\n",
    "graphinfo"
   ]
  },
  {
   "cell_type": "code",
   "execution_count": 139,
   "metadata": {},
   "outputs": [],
   "source": [
    "dot = Digraph(format='png')"
   ]
  },
  {
   "cell_type": "code",
   "execution_count": 142,
   "metadata": {},
   "outputs": [],
   "source": [
    "for n in G.nodes:\n",
    "    dot.node(n, label='', image=unique_smiles[n]+'.png')\n",
    "dot.edges(G.edges)"
   ]
  },
  {
   "cell_type": "code",
   "execution_count": 143,
   "metadata": {},
   "outputs": [
    {
     "data": {
      "text/plain": [
       "{'[Li].C1(=O)OCCO1.C(=O)([O])OC[CH2]': 'one',\n",
       " '[Li].C1([O])(OCCO1)OC[CH2].C(=O)=O': 'six',\n",
       " '[Li]OC(=O)OC[CH2].C1(=O)OCCO1': 'four',\n",
       " '[Li]OC1(OCCO1)OC[CH2].C(=O)=O': 'three',\n",
       " '[Li]OCCOC(=O)OC[CH2].C(=O)=O': 'seven',\n",
       " '[Li]OC[CH2].C1(=O)OCCO1.C(=O)=O': 'two',\n",
       " '[Li]OC[CH2].C1(=O)OCCO1.[C](=O)[O]': 'five'}"
      ]
     },
     "execution_count": 143,
     "metadata": {},
     "output_type": "execute_result"
    }
   ],
   "source": [
    "unique_smiles"
   ]
  },
  {
   "cell_type": "code",
   "execution_count": 144,
   "metadata": {},
   "outputs": [
    {
     "name": "stdout",
     "output_type": "stream",
     "text": [
      "digraph {\n",
      "\t\"[Li].C1(=O)OCCO1.C(=O)([O])OC[CH2]\" [label=\"\" image=\"one.png\"]\n",
      "\t\"[Li]OC[CH2].C1(=O)OCCO1.C(=O)=O\" [label=\"\" image=\"two.png\"]\n",
      "\t\"[Li]OC1(OCCO1)OC[CH2].C(=O)=O\" [label=\"\" image=\"three.png\"]\n",
      "\t\"[Li]OC(=O)OC[CH2].C1(=O)OCCO1\" [label=\"\" image=\"four.png\"]\n",
      "\t\"[Li]OC[CH2].C1(=O)OCCO1.[C](=O)[O]\" [label=\"\" image=\"five.png\"]\n",
      "\t\"[Li].C1([O])(OCCO1)OC[CH2].C(=O)=O\" [label=\"\" image=\"six.png\"]\n",
      "\t\"[Li]OCCOC(=O)OC[CH2].C(=O)=O\" [label=\"\" image=\"seven.png\"]\n",
      "\t\"[Li].C1(=O)OCCO1.C(=O)([O])OC[CH2]\" -> \"[Li]OC[CH2].C1(=O)OCCO1.C(=O)=O\"\n",
      "\t\"[Li]OC[CH2].C1(=O)OCCO1.C(=O)=O\" -> \"[Li]OC1(OCCO1)OC[CH2].C(=O)=O\"\n",
      "\t\"[Li]OC[CH2].C1(=O)OCCO1.C(=O)=O\" -> \"[Li]OC(=O)OC[CH2].C1(=O)OCCO1\"\n",
      "\t\"[Li]OC[CH2].C1(=O)OCCO1.C(=O)=O\" -> \"[Li].C1(=O)OCCO1.C(=O)([O])OC[CH2]\"\n",
      "\t\"[Li]OC1(OCCO1)OC[CH2].C(=O)=O\" -> \"[Li]OC[CH2].C1(=O)OCCO1.C(=O)=O\"\n",
      "\t\"[Li]OC1(OCCO1)OC[CH2].C(=O)=O\" -> \"[Li].C1([O])(OCCO1)OC[CH2].C(=O)=O\"\n",
      "\t\"[Li]OC(=O)OC[CH2].C1(=O)OCCO1\" -> \"[Li]OC[CH2].C1(=O)OCCO1.C(=O)=O\"\n",
      "\t\"[Li]OC(=O)OC[CH2].C1(=O)OCCO1\" -> \"[Li]OC[CH2].C1(=O)OCCO1.[C](=O)[O]\"\n",
      "\t\"[Li]OC[CH2].C1(=O)OCCO1.[C](=O)[O]\" -> \"[Li].C1([O])(OCCO1)OC[CH2].C(=O)=O\"\n",
      "\t\"[Li].C1([O])(OCCO1)OC[CH2].C(=O)=O\" -> \"[Li]OC1(OCCO1)OC[CH2].C(=O)=O\"\n",
      "\t\"[Li].C1([O])(OCCO1)OC[CH2].C(=O)=O\" -> \"[Li]OCCOC(=O)OC[CH2].C(=O)=O\"\n",
      "\t\"[Li]OCCOC(=O)OC[CH2].C(=O)=O\" -> \"[Li]OC1(OCCO1)OC[CH2].C(=O)=O\"\n",
      "}\n"
     ]
    }
   ],
   "source": [
    "print(dot.source)"
   ]
  },
  {
   "cell_type": "code",
   "execution_count": 145,
   "metadata": {},
   "outputs": [
    {
     "data": {
      "text/plain": [
       "'maybe.png'"
      ]
     },
     "execution_count": 145,
     "metadata": {},
     "output_type": "execute_result"
    }
   ],
   "source": [
    "dot.render('maybe', view=True)"
   ]
  },
  {
   "cell_type": "code",
   "execution_count": 137,
   "metadata": {},
   "outputs": [
    {
     "ename": "TypeError",
     "evalue": "expected string or bytes-like object",
     "output_type": "error",
     "traceback": [
      "\u001b[0;31m---------------------------------------------------------------------------\u001b[0m",
      "\u001b[0;31mTypeError\u001b[0m                                 Traceback (most recent call last)",
      "\u001b[0;32m<ipython-input-137-76e616e68e4a>\u001b[0m in \u001b[0;36m<module>\u001b[0;34m()\u001b[0m\n\u001b[1;32m      1\u001b[0m \u001b[0;32mfor\u001b[0m \u001b[0me\u001b[0m \u001b[0;32min\u001b[0m \u001b[0mG\u001b[0m\u001b[0;34m.\u001b[0m\u001b[0medges\u001b[0m\u001b[0;34m(\u001b[0m\u001b[0mdata\u001b[0m\u001b[0;34m=\u001b[0m\u001b[0;32mTrue\u001b[0m\u001b[0;34m)\u001b[0m\u001b[0;34m:\u001b[0m\u001b[0;34m\u001b[0m\u001b[0m\n\u001b[0;32m----> 2\u001b[0;31m     \u001b[0mdot\u001b[0m\u001b[0;34m.\u001b[0m\u001b[0medge\u001b[0m\u001b[0;34m(\u001b[0m\u001b[0me\u001b[0m\u001b[0;34m[\u001b[0m\u001b[0;36m0\u001b[0m\u001b[0;34m]\u001b[0m\u001b[0;34m,\u001b[0m \u001b[0me\u001b[0m\u001b[0;34m[\u001b[0m\u001b[0;36m1\u001b[0m\u001b[0;34m]\u001b[0m\u001b[0;34m,\u001b[0m \u001b[0mlabel\u001b[0m\u001b[0;34m=\u001b[0m\u001b[0;34m''\u001b[0m\u001b[0;34m,\u001b[0m \u001b[0mpenwidth\u001b[0m\u001b[0;34m=\u001b[0m\u001b[0me\u001b[0m\u001b[0;34m[\u001b[0m\u001b[0;36m2\u001b[0m\u001b[0;34m]\u001b[0m\u001b[0;34m[\u001b[0m\u001b[0;34m'penwidth'\u001b[0m\u001b[0;34m]\u001b[0m\u001b[0;34m)\u001b[0m\u001b[0;34m\u001b[0m\u001b[0m\n\u001b[0m\u001b[1;32m      3\u001b[0m     \u001b[0mprint\u001b[0m\u001b[0;34m(\u001b[0m\u001b[0me\u001b[0m\u001b[0;34m[\u001b[0m\u001b[0;36m2\u001b[0m\u001b[0;34m]\u001b[0m\u001b[0;34m[\u001b[0m\u001b[0;34m'penwidth'\u001b[0m\u001b[0;34m]\u001b[0m\u001b[0;34m)\u001b[0m\u001b[0;34m\u001b[0m\u001b[0m\n",
      "\u001b[0;32m~/anaconda3/envs/mdstates/lib/python3.6/site-packages/graphviz/dot.py\u001b[0m in \u001b[0;36medge\u001b[0;34m(self, tail_name, head_name, label, _attributes, **attrs)\u001b[0m\n\u001b[1;32m    144\u001b[0m         \u001b[0mtail_name\u001b[0m \u001b[0;34m=\u001b[0m \u001b[0mself\u001b[0m\u001b[0;34m.\u001b[0m\u001b[0m_quote_edge\u001b[0m\u001b[0;34m(\u001b[0m\u001b[0mtail_name\u001b[0m\u001b[0;34m)\u001b[0m\u001b[0;34m\u001b[0m\u001b[0m\n\u001b[1;32m    145\u001b[0m         \u001b[0mhead_name\u001b[0m \u001b[0;34m=\u001b[0m \u001b[0mself\u001b[0m\u001b[0;34m.\u001b[0m\u001b[0m_quote_edge\u001b[0m\u001b[0;34m(\u001b[0m\u001b[0mhead_name\u001b[0m\u001b[0;34m)\u001b[0m\u001b[0;34m\u001b[0m\u001b[0m\n\u001b[0;32m--> 146\u001b[0;31m         \u001b[0mattr_list\u001b[0m \u001b[0;34m=\u001b[0m \u001b[0mself\u001b[0m\u001b[0;34m.\u001b[0m\u001b[0m_attr_list\u001b[0m\u001b[0;34m(\u001b[0m\u001b[0mlabel\u001b[0m\u001b[0;34m,\u001b[0m \u001b[0mattrs\u001b[0m\u001b[0;34m,\u001b[0m \u001b[0m_attributes\u001b[0m\u001b[0;34m)\u001b[0m\u001b[0;34m\u001b[0m\u001b[0m\n\u001b[0m\u001b[1;32m    147\u001b[0m         \u001b[0mline\u001b[0m \u001b[0;34m=\u001b[0m \u001b[0mself\u001b[0m\u001b[0;34m.\u001b[0m\u001b[0m_edge\u001b[0m \u001b[0;34m%\u001b[0m \u001b[0;34m(\u001b[0m\u001b[0mtail_name\u001b[0m\u001b[0;34m,\u001b[0m \u001b[0mhead_name\u001b[0m\u001b[0;34m,\u001b[0m \u001b[0mattr_list\u001b[0m\u001b[0;34m)\u001b[0m\u001b[0;34m\u001b[0m\u001b[0m\n\u001b[1;32m    148\u001b[0m         \u001b[0mself\u001b[0m\u001b[0;34m.\u001b[0m\u001b[0mbody\u001b[0m\u001b[0;34m.\u001b[0m\u001b[0mappend\u001b[0m\u001b[0;34m(\u001b[0m\u001b[0mline\u001b[0m\u001b[0;34m)\u001b[0m\u001b[0;34m\u001b[0m\u001b[0m\n",
      "\u001b[0;32m~/anaconda3/envs/mdstates/lib/python3.6/site-packages/graphviz/lang.py\u001b[0m in \u001b[0;36mattr_list\u001b[0;34m(label, kwargs, attributes)\u001b[0m\n\u001b[1;32m    110\u001b[0m     \u001b[0;34m' [eggs=\"\"]'\u001b[0m\u001b[0;34m\u001b[0m\u001b[0m\n\u001b[1;32m    111\u001b[0m     \"\"\"\n\u001b[0;32m--> 112\u001b[0;31m     \u001b[0mcontent\u001b[0m \u001b[0;34m=\u001b[0m \u001b[0ma_list\u001b[0m\u001b[0;34m(\u001b[0m\u001b[0mlabel\u001b[0m\u001b[0;34m,\u001b[0m \u001b[0mkwargs\u001b[0m\u001b[0;34m,\u001b[0m \u001b[0mattributes\u001b[0m\u001b[0;34m)\u001b[0m\u001b[0;34m\u001b[0m\u001b[0m\n\u001b[0m\u001b[1;32m    113\u001b[0m     \u001b[0;32mif\u001b[0m \u001b[0;32mnot\u001b[0m \u001b[0mcontent\u001b[0m\u001b[0;34m:\u001b[0m\u001b[0;34m\u001b[0m\u001b[0m\n\u001b[1;32m    114\u001b[0m         \u001b[0;32mreturn\u001b[0m \u001b[0;34m''\u001b[0m\u001b[0;34m\u001b[0m\u001b[0m\n",
      "\u001b[0;32m~/anaconda3/envs/mdstates/lib/python3.6/site-packages/graphviz/lang.py\u001b[0m in \u001b[0;36ma_list\u001b[0;34m(label, kwargs, attributes)\u001b[0m\n\u001b[1;32m     84\u001b[0m     \u001b[0;32mif\u001b[0m \u001b[0mkwargs\u001b[0m\u001b[0;34m:\u001b[0m\u001b[0;34m\u001b[0m\u001b[0m\n\u001b[1;32m     85\u001b[0m         items = ['%s=%s' % (quote(k), quote(v))\n\u001b[0;32m---> 86\u001b[0;31m             for k, v in tools.mapping_items(kwargs) if v is not None]\n\u001b[0m\u001b[1;32m     87\u001b[0m         \u001b[0mresult\u001b[0m\u001b[0;34m.\u001b[0m\u001b[0mextend\u001b[0m\u001b[0;34m(\u001b[0m\u001b[0mitems\u001b[0m\u001b[0;34m)\u001b[0m\u001b[0;34m\u001b[0m\u001b[0m\n\u001b[1;32m     88\u001b[0m     \u001b[0;32mif\u001b[0m \u001b[0mattributes\u001b[0m\u001b[0;34m:\u001b[0m\u001b[0;34m\u001b[0m\u001b[0m\n",
      "\u001b[0;32m~/anaconda3/envs/mdstates/lib/python3.6/site-packages/graphviz/lang.py\u001b[0m in \u001b[0;36m<listcomp>\u001b[0;34m(.0)\u001b[0m\n\u001b[1;32m     84\u001b[0m     \u001b[0;32mif\u001b[0m \u001b[0mkwargs\u001b[0m\u001b[0;34m:\u001b[0m\u001b[0;34m\u001b[0m\u001b[0m\n\u001b[1;32m     85\u001b[0m         items = ['%s=%s' % (quote(k), quote(v))\n\u001b[0;32m---> 86\u001b[0;31m             for k, v in tools.mapping_items(kwargs) if v is not None]\n\u001b[0m\u001b[1;32m     87\u001b[0m         \u001b[0mresult\u001b[0m\u001b[0;34m.\u001b[0m\u001b[0mextend\u001b[0m\u001b[0;34m(\u001b[0m\u001b[0mitems\u001b[0m\u001b[0;34m)\u001b[0m\u001b[0;34m\u001b[0m\u001b[0m\n\u001b[1;32m     88\u001b[0m     \u001b[0;32mif\u001b[0m \u001b[0mattributes\u001b[0m\u001b[0;34m:\u001b[0m\u001b[0;34m\u001b[0m\u001b[0m\n",
      "\u001b[0;32m~/anaconda3/envs/mdstates/lib/python3.6/site-packages/graphviz/lang.py\u001b[0m in \u001b[0;36mquote\u001b[0;34m(identifier, html, valid_id, dot_keywords)\u001b[0m\n\u001b[1;32m     46\u001b[0m     \u001b[0;34m'\"<>\"'\u001b[0m\u001b[0;34m\u001b[0m\u001b[0m\n\u001b[1;32m     47\u001b[0m     \"\"\"\n\u001b[0;32m---> 48\u001b[0;31m     \u001b[0;32mif\u001b[0m \u001b[0mhtml\u001b[0m\u001b[0;34m(\u001b[0m\u001b[0midentifier\u001b[0m\u001b[0;34m)\u001b[0m \u001b[0;32mand\u001b[0m \u001b[0;32mnot\u001b[0m \u001b[0misinstance\u001b[0m\u001b[0;34m(\u001b[0m\u001b[0midentifier\u001b[0m\u001b[0;34m,\u001b[0m \u001b[0mNoHtml\u001b[0m\u001b[0;34m)\u001b[0m\u001b[0;34m:\u001b[0m\u001b[0;34m\u001b[0m\u001b[0m\n\u001b[0m\u001b[1;32m     49\u001b[0m         \u001b[0;32mpass\u001b[0m\u001b[0;34m\u001b[0m\u001b[0m\n\u001b[1;32m     50\u001b[0m     \u001b[0;32melif\u001b[0m \u001b[0;32mnot\u001b[0m \u001b[0mvalid_id\u001b[0m\u001b[0;34m(\u001b[0m\u001b[0midentifier\u001b[0m\u001b[0;34m)\u001b[0m \u001b[0;32mor\u001b[0m \u001b[0midentifier\u001b[0m\u001b[0;34m.\u001b[0m\u001b[0mlower\u001b[0m\u001b[0;34m(\u001b[0m\u001b[0;34m)\u001b[0m \u001b[0;32min\u001b[0m \u001b[0mdot_keywords\u001b[0m\u001b[0;34m:\u001b[0m\u001b[0;34m\u001b[0m\u001b[0m\n",
      "\u001b[0;31mTypeError\u001b[0m: expected string or bytes-like object"
     ]
    }
   ],
   "source": [
    "for e in G.edges(data=True):\n",
    "    dot.edge(e[0], e[1], label='', penwidth=e[2]['penwidth'])\n",
    "    print(e[2]['penwidth'])"
   ]
  },
  {
   "cell_type": "code",
   "execution_count": 138,
   "metadata": {},
   "outputs": [
    {
     "ename": "AttributeError",
     "evalue": "'int' object has no attribute 'partition'",
     "output_type": "error",
     "traceback": [
      "\u001b[0;31m---------------------------------------------------------------------------\u001b[0m",
      "\u001b[0;31mAttributeError\u001b[0m                            Traceback (most recent call last)",
      "\u001b[0;32m<ipython-input-138-45a13193940c>\u001b[0m in \u001b[0;36m<module>\u001b[0;34m()\u001b[0m\n\u001b[1;32m      1\u001b[0m \u001b[0mdd\u001b[0m \u001b[0;34m=\u001b[0m \u001b[0mDigraph\u001b[0m\u001b[0;34m(\u001b[0m\u001b[0;34m)\u001b[0m\u001b[0;34m\u001b[0m\u001b[0m\n\u001b[0;32m----> 2\u001b[0;31m \u001b[0mdd\u001b[0m\u001b[0;34m.\u001b[0m\u001b[0medge\u001b[0m\u001b[0;34m(\u001b[0m\u001b[0;36m1\u001b[0m\u001b[0;34m,\u001b[0m \u001b[0;36m2\u001b[0m\u001b[0;34m,\u001b[0m \u001b[0mpenwidth\u001b[0m\u001b[0;34m=\u001b[0m\u001b[0;36m4\u001b[0m\u001b[0;34m)\u001b[0m\u001b[0;34m\u001b[0m\u001b[0m\n\u001b[0m",
      "\u001b[0;32m~/anaconda3/envs/mdstates/lib/python3.6/site-packages/graphviz/dot.py\u001b[0m in \u001b[0;36medge\u001b[0;34m(self, tail_name, head_name, label, _attributes, **attrs)\u001b[0m\n\u001b[1;32m    142\u001b[0m             \u001b[0mattrs\u001b[0m\u001b[0;34m:\u001b[0m \u001b[0mAny\u001b[0m \u001b[0madditional\u001b[0m \u001b[0medge\u001b[0m \u001b[0mattributes\u001b[0m \u001b[0;34m(\u001b[0m\u001b[0mmust\u001b[0m \u001b[0mbe\u001b[0m \u001b[0mstrings\u001b[0m\u001b[0;34m)\u001b[0m\u001b[0;34m.\u001b[0m\u001b[0;34m\u001b[0m\u001b[0m\n\u001b[1;32m    143\u001b[0m         \"\"\"\n\u001b[0;32m--> 144\u001b[0;31m         \u001b[0mtail_name\u001b[0m \u001b[0;34m=\u001b[0m \u001b[0mself\u001b[0m\u001b[0;34m.\u001b[0m\u001b[0m_quote_edge\u001b[0m\u001b[0;34m(\u001b[0m\u001b[0mtail_name\u001b[0m\u001b[0;34m)\u001b[0m\u001b[0;34m\u001b[0m\u001b[0m\n\u001b[0m\u001b[1;32m    145\u001b[0m         \u001b[0mhead_name\u001b[0m \u001b[0;34m=\u001b[0m \u001b[0mself\u001b[0m\u001b[0;34m.\u001b[0m\u001b[0m_quote_edge\u001b[0m\u001b[0;34m(\u001b[0m\u001b[0mhead_name\u001b[0m\u001b[0;34m)\u001b[0m\u001b[0;34m\u001b[0m\u001b[0m\n\u001b[1;32m    146\u001b[0m         \u001b[0mattr_list\u001b[0m \u001b[0;34m=\u001b[0m \u001b[0mself\u001b[0m\u001b[0;34m.\u001b[0m\u001b[0m_attr_list\u001b[0m\u001b[0;34m(\u001b[0m\u001b[0mlabel\u001b[0m\u001b[0;34m,\u001b[0m \u001b[0mattrs\u001b[0m\u001b[0;34m,\u001b[0m \u001b[0m_attributes\u001b[0m\u001b[0;34m)\u001b[0m\u001b[0;34m\u001b[0m\u001b[0m\n",
      "\u001b[0;32m~/anaconda3/envs/mdstates/lib/python3.6/site-packages/graphviz/lang.py\u001b[0m in \u001b[0;36mquote_edge\u001b[0;34m(identifier)\u001b[0m\n\u001b[1;32m     65\u001b[0m     \u001b[0;34m'spam:eggs:s'\u001b[0m\u001b[0;34m\u001b[0m\u001b[0m\n\u001b[1;32m     66\u001b[0m     \"\"\"\n\u001b[0;32m---> 67\u001b[0;31m     \u001b[0mnode\u001b[0m\u001b[0;34m,\u001b[0m \u001b[0m_\u001b[0m\u001b[0;34m,\u001b[0m \u001b[0mrest\u001b[0m \u001b[0;34m=\u001b[0m \u001b[0midentifier\u001b[0m\u001b[0;34m.\u001b[0m\u001b[0mpartition\u001b[0m\u001b[0;34m(\u001b[0m\u001b[0;34m':'\u001b[0m\u001b[0;34m)\u001b[0m\u001b[0;34m\u001b[0m\u001b[0m\n\u001b[0m\u001b[1;32m     68\u001b[0m     \u001b[0mparts\u001b[0m \u001b[0;34m=\u001b[0m \u001b[0;34m[\u001b[0m\u001b[0mquote\u001b[0m\u001b[0;34m(\u001b[0m\u001b[0mnode\u001b[0m\u001b[0;34m)\u001b[0m\u001b[0;34m]\u001b[0m\u001b[0;34m\u001b[0m\u001b[0m\n\u001b[1;32m     69\u001b[0m     \u001b[0;32mif\u001b[0m \u001b[0mrest\u001b[0m\u001b[0;34m:\u001b[0m\u001b[0;34m\u001b[0m\u001b[0m\n",
      "\u001b[0;31mAttributeError\u001b[0m: 'int' object has no attribute 'partition'"
     ]
    }
   ],
   "source": [
    "dd = Digraph()\n",
    "dd.edge(1, 2, penwidth=4)"
   ]
  },
  {
   "cell_type": "code",
   "execution_count": null,
   "metadata": {},
   "outputs": [],
   "source": []
  }
 ],
 "metadata": {
  "kernelspec": {
   "display_name": "Python 3",
   "language": "python",
   "name": "python3"
  },
  "language_info": {
   "codemirror_mode": {
    "name": "ipython",
    "version": 3
   },
   "file_extension": ".py",
   "mimetype": "text/x-python",
   "name": "python",
   "nbconvert_exporter": "python",
   "pygments_lexer": "ipython3",
   "version": "3.6.1"
  }
 },
 "nbformat": 4,
 "nbformat_minor": 2
}
